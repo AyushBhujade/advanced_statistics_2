{
 "cells": [
  {
   "cell_type": "markdown",
   "id": "e8914fd1-6ec8-4e92-bbe4-f1947e8384e2",
   "metadata": {},
   "source": [
    "quation 1"
   ]
  },
  {
   "cell_type": "markdown",
   "id": "ef9668c8-c7ba-41dd-b308-95d55f40c563",
   "metadata": {},
   "source": [
    "probability mass function : pmf is used for discreate random variable and gives the probability that a\n",
    "                            descrete random variable takes a specific value.\n",
    "\n",
    "for example: consider a fair six sided die.the pmf for rolling a 3 is p(x=3)=1/6 because there is one \n",
    "             favorable outcome out of six possible outcome\n",
    "             \n",
    "probability density function: pdf is used for continous random variable.instead of a giving the probability\n",
    "                              at a specific point it gives the probability density over a range of value\n",
    "                              \n",
    "for example: consider a standard normal distribution with a pdf denoted as f(x). the probability of a variable falling between two value\n",
    "             a and b gives by the integral of f(x) from a to b\n",
    "                              \n"
   ]
  },
  {
   "cell_type": "markdown",
   "id": "9c91486d-bfd8-4875-933f-c714fd4fa186",
   "metadata": {},
   "source": [
    "Quation 2"
   ]
  },
  {
   "cell_type": "markdown",
   "id": "3e68d571-ecb9-4c48-91e9-15a356263ef1",
   "metadata": {},
   "source": [
    "the cumulative distribution function of a random variable x is function that gives the probability that x will \n",
    "take a value less than or equal to a sppecific value.\n",
    "\n",
    "for example: lets consider a fair dice the cdf for rolling a 3 would be p(x<=3),which include the probability of a \n",
    "             rolling 1,2 or 3 the cod is often expressed as a step function for disrete random variable.\n",
    "             \n",
    "use: the cdf is useful because it provide a way to determine the probability that random variable is less than or equal to\n",
    "     certain value. "
   ]
  },
  {
   "cell_type": "markdown",
   "id": "7191856d-5201-4e5a-9122-bf7a5bac9d84",
   "metadata": {},
   "source": [
    "Quation 3"
   ]
  },
  {
   "cell_type": "markdown",
   "id": "9fade09b-1c65-46d4-958a-29c654ae5192",
   "metadata": {},
   "source": [
    "1)Height of a large population tend to follow a normal distribution\n",
    "2)intelligence quotient (IQ) score in a population often exhibit a normal distribution.\n",
    "3)Daily stock price changes are often modeled as normal distribution.\n",
    "\n",
    "the normal distribution is characterized by two parameter: Mean and Standard Deviation.\n",
    "the mean determine the central location of the distribution,while standard deviation measure\n",
    "the spread or dispersion\n",
    " \n",
    "A larger standard deviation leads to wider and flatter distribution,indicating more variability.\n",
    "\n",
    "A smaller standard deviation result in a narrower and taller distribution,indicating less variability."
   ]
  },
  {
   "cell_type": "markdown",
   "id": "68cef6f8-d74b-44c5-9eb0-c654d07537ed",
   "metadata": {},
   "source": [
    "Quation 4:"
   ]
  },
  {
   "cell_type": "markdown",
   "id": "18c97adb-9673-4321-a3ef-f84f57e0b0de",
   "metadata": {},
   "source": [
    "Importance: 1)the normal distribution is a key concept in the central limit theorem stating that the distribution of a sum\n",
    "            of a large number of independent identically distributed random variable approaches a normal distribution,\n",
    "            regardless of a original distribution\n",
    "            2)Many statistical methods such as,hypothesis testing and confidence interval are based on the assumption of\n",
    "            normality.\n",
    "            \n",
    "Real life example:\n",
    "            1)Height of a large population tend to follow a normal distribution\n",
    "            2)intelligence quotient (IQ) score in a population often exhibit a normal distribution.\n",
    "            3)Daily stock price changes are often modeled as normal distribution.\n",
    "\n",
    "            \n",
    "            "
   ]
  },
  {
   "cell_type": "markdown",
   "id": "0ada71e5-cb1a-491e-9521-ea88e5c1ec30",
   "metadata": {},
   "source": [
    "Quation 5:"
   ]
  },
  {
   "cell_type": "markdown",
   "id": "c0762afc-6b99-470e-ad28-4e4ebe056c31",
   "metadata": {},
   "source": [
    "Bernoulli distribution:\n",
    "                        the bernoulli distribution is a discrete probability distribution for a random variable that can take\n",
    "                        only two possible outcomes,success is denoted by 1 and failure denoted by 0.\n",
    "                        1) number of trial is only one\n",
    "                        2)outcome represent a single success or failure.\n",
    "for example : \n",
    "            consider tossing a fair coin where getting heads is consider as success 1 and tail is considered as failure 0\n",
    "            the outcome of a single coin flip can be modeled using bernoulli distribution\n",
    "            \n",
    "Binomial distribution :\n",
    "                       binomial distribution is an extension of the bernoulli distribution and model the number of\n",
    "                       successes in a fixed number of independent bernoulli trails,each with the same probability of\n",
    "                       success.\n",
    "                       1) the number of trials are multiple.\n",
    "                       2)outcome represent the number of successes in multiple trials."
   ]
  },
  {
   "cell_type": "markdown",
   "id": "b0cc7f58-74d6-44b9-8353-b1dd3056bcce",
   "metadata": {},
   "source": [
    "Quation 6:"
   ]
  },
  {
   "cell_type": "markdown",
   "id": "f705d972-1d7a-42a2-bf3b-567b6fcd7d01",
   "metadata": {},
   "source": [
    "Formula:  \n",
    "        Z=value-mean/standard deviation\n",
    "        z=60-50/10\n",
    "        z=1\n",
    "         now we  can look up the corresponding probability from the standard normal distribution table for Z=1\n",
    "         z value for 1 is 0.8413\n",
    "         area under the curve is 1.  now we subtract the z value by 1\n",
    "         =1-0.8413\n",
    "         =0.1587\n",
    "         =0.1587*100\n",
    "         15.87%\n",
    "probability that randomly selected observation will be greater than 60 is approximately 15.87%\n",
    "         "
   ]
  },
  {
   "cell_type": "markdown",
   "id": "2e1b8164-041b-42b3-9f5a-fbd90b070bf8",
   "metadata": {},
   "source": [
    "Quation 7"
   ]
  },
  {
   "cell_type": "markdown",
   "id": "56df396d-6e42-4b62-a23f-17d55c5dc616",
   "metadata": {},
   "source": [
    "A uniform dustribution is a probability distribution where all outcome are equally likely. in other word,each possible outcome\n",
    "has the same probability of occurring. this distribution is characterized by a constant probability density function between\n",
    "a specified range\n",
    "\n",
    "ex-consider a rolling a fair dice each face(1,2,3,4,5,6) has an equal chance of appearing and the probability of rolling any specific\n",
    "   number is 1/6.in this case the uniform distribution is applicable because each outcome is unifomly distributed\n",
    "   "
   ]
  },
  {
   "cell_type": "markdown",
   "id": "ba893abf-b039-477d-a14d-8562597909c8",
   "metadata": {},
   "source": [
    "Quation 8"
   ]
  },
  {
   "cell_type": "markdown",
   "id": "4143ef3d-acd7-4ede-a2db-6b7a1b20bf64",
   "metadata": {},
   "source": [
    "Z score is also known as the standard score, measure how many standard deviation a particular data point is from\n",
    "the mean of a distribution.\n",
    "\n",
    "importance:\n",
    "1)z-score transform data into a common scale making it easire to comapre value from different datasets.\n",
    "2)Z-score help identify outliers in a dataset.data point with high absolute z score are considered unusual or outlier.\n",
    "3)z score are used to find probability associated with a perticular value in a normal distribution.\n"
   ]
  },
  {
   "cell_type": "markdown",
   "id": "994a9153-a7d7-4447-a065-cca7cac8cfa8",
   "metadata": {},
   "source": [
    "Quation 9:"
   ]
  },
  {
   "cell_type": "markdown",
   "id": "259680f2-dc33-42dd-9f1b-26468893865b",
   "metadata": {},
   "source": [
    "the central limit theorem is a fundamental concept in statistics that states that the distribution of the sum or\n",
    "average of a large number of independent,identically distributed random variable approaches a normal distribution\n",
    "regardless of the original distribution of the individual variable.\n",
    "\n",
    "as the sample size increases yhe distribution of the sum or average become approximately normal regardless of the shape\n",
    "of the original distribution.\n",
    "\n",
    "the CLT is crucial in practical statistical application.it allows statisticions to make inferences about population\n",
    "parameter based on sample statistics.\n",
    "\n",
    "for the CLT to be applicable the sample size should be sufficiently large. the rule of thumb is considered as n>=30."
   ]
  },
  {
   "cell_type": "markdown",
   "id": "3a989896-dada-40c3-80d0-3f9964f4dd21",
   "metadata": {},
   "source": [
    "Quation 10"
   ]
  },
  {
   "cell_type": "markdown",
   "id": "3aa81213-8118-456b-9453-062e1f8e7e37",
   "metadata": {},
   "source": [
    "Independence: The individual observations or random variables in the sample must be independent of each other. The outcome of one observation should not influence the outcome of another.\n",
    "\n",
    "Sample Size: While the CLT does not specify an exact sample size, larger sample sizes tend to result in better approximations to a normal distribution. A common rule of thumb is that the sample size (n) should be sufficiently large\n",
    "\n"
   ]
  }
 ],
 "metadata": {
  "kernelspec": {
   "display_name": "Python 3 (ipykernel)",
   "language": "python",
   "name": "python3"
  },
  "language_info": {
   "codemirror_mode": {
    "name": "ipython",
    "version": 3
   },
   "file_extension": ".py",
   "mimetype": "text/x-python",
   "name": "python",
   "nbconvert_exporter": "python",
   "pygments_lexer": "ipython3",
   "version": "3.10.8"
  }
 },
 "nbformat": 4,
 "nbformat_minor": 5
}
